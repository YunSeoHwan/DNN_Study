{
  "nbformat": 4,
  "nbformat_minor": 0,
  "metadata": {
    "colab": {
      "provenance": [],
      "mount_file_id": "1myir6OeNABrtpmV_2qNSoKHrGpq3g3ss",
      "authorship_tag": "ABX9TyOVenBslqeyCtaCLM8UEbXE",
      "include_colab_link": true
    },
    "kernelspec": {
      "name": "python3",
      "display_name": "Python 3"
    },
    "language_info": {
      "name": "python"
    },
    "gpuClass": "standard",
    "accelerator": "GPU",
    "widgets": {
      "application/vnd.jupyter.widget-state+json": {
        "d51753e9f42a412aa4dba9386973de88": {
          "model_module": "@jupyter-widgets/controls",
          "model_name": "HBoxModel",
          "model_module_version": "1.5.0",
          "state": {
            "_dom_classes": [],
            "_model_module": "@jupyter-widgets/controls",
            "_model_module_version": "1.5.0",
            "_model_name": "HBoxModel",
            "_view_count": null,
            "_view_module": "@jupyter-widgets/controls",
            "_view_module_version": "1.5.0",
            "_view_name": "HBoxView",
            "box_style": "",
            "children": [
              "IPY_MODEL_82956de099014cf49d6cf01a0142df62",
              "IPY_MODEL_a0a3e3fac95e4136a07bc4fc0e7766cb",
              "IPY_MODEL_10a6db4d2bd84d8bbde8e808711ee948"
            ],
            "layout": "IPY_MODEL_938be2f00e9948a5aff69a119b937e89"
          }
        },
        "82956de099014cf49d6cf01a0142df62": {
          "model_module": "@jupyter-widgets/controls",
          "model_name": "HTMLModel",
          "model_module_version": "1.5.0",
          "state": {
            "_dom_classes": [],
            "_model_module": "@jupyter-widgets/controls",
            "_model_module_version": "1.5.0",
            "_model_name": "HTMLModel",
            "_view_count": null,
            "_view_module": "@jupyter-widgets/controls",
            "_view_module_version": "1.5.0",
            "_view_name": "HTMLView",
            "description": "",
            "description_tooltip": null,
            "layout": "IPY_MODEL_1880fd35db834d4793e293e4968943aa",
            "placeholder": "​",
            "style": "IPY_MODEL_0ba41410b97c449fb86c81026e6e4459",
            "value": "100%"
          }
        },
        "a0a3e3fac95e4136a07bc4fc0e7766cb": {
          "model_module": "@jupyter-widgets/controls",
          "model_name": "FloatProgressModel",
          "model_module_version": "1.5.0",
          "state": {
            "_dom_classes": [],
            "_model_module": "@jupyter-widgets/controls",
            "_model_module_version": "1.5.0",
            "_model_name": "FloatProgressModel",
            "_view_count": null,
            "_view_module": "@jupyter-widgets/controls",
            "_view_module_version": "1.5.0",
            "_view_name": "ProgressView",
            "bar_style": "success",
            "description": "",
            "description_tooltip": null,
            "layout": "IPY_MODEL_374fe9f73a1c401e8d768bf07e2ef759",
            "max": 170498071,
            "min": 0,
            "orientation": "horizontal",
            "style": "IPY_MODEL_0822a5470b4d44ab8950f390c62b4df1",
            "value": 170498071
          }
        },
        "10a6db4d2bd84d8bbde8e808711ee948": {
          "model_module": "@jupyter-widgets/controls",
          "model_name": "HTMLModel",
          "model_module_version": "1.5.0",
          "state": {
            "_dom_classes": [],
            "_model_module": "@jupyter-widgets/controls",
            "_model_module_version": "1.5.0",
            "_model_name": "HTMLModel",
            "_view_count": null,
            "_view_module": "@jupyter-widgets/controls",
            "_view_module_version": "1.5.0",
            "_view_name": "HTMLView",
            "description": "",
            "description_tooltip": null,
            "layout": "IPY_MODEL_6e1e4443b0d74b95bd7a9e6b10d559ac",
            "placeholder": "​",
            "style": "IPY_MODEL_04705af0a74044c29afd1697dc3edc0d",
            "value": " 170498071/170498071 [00:30&lt;00:00, 6929429.89it/s]"
          }
        },
        "938be2f00e9948a5aff69a119b937e89": {
          "model_module": "@jupyter-widgets/base",
          "model_name": "LayoutModel",
          "model_module_version": "1.2.0",
          "state": {
            "_model_module": "@jupyter-widgets/base",
            "_model_module_version": "1.2.0",
            "_model_name": "LayoutModel",
            "_view_count": null,
            "_view_module": "@jupyter-widgets/base",
            "_view_module_version": "1.2.0",
            "_view_name": "LayoutView",
            "align_content": null,
            "align_items": null,
            "align_self": null,
            "border": null,
            "bottom": null,
            "display": null,
            "flex": null,
            "flex_flow": null,
            "grid_area": null,
            "grid_auto_columns": null,
            "grid_auto_flow": null,
            "grid_auto_rows": null,
            "grid_column": null,
            "grid_gap": null,
            "grid_row": null,
            "grid_template_areas": null,
            "grid_template_columns": null,
            "grid_template_rows": null,
            "height": null,
            "justify_content": null,
            "justify_items": null,
            "left": null,
            "margin": null,
            "max_height": null,
            "max_width": null,
            "min_height": null,
            "min_width": null,
            "object_fit": null,
            "object_position": null,
            "order": null,
            "overflow": null,
            "overflow_x": null,
            "overflow_y": null,
            "padding": null,
            "right": null,
            "top": null,
            "visibility": null,
            "width": null
          }
        },
        "1880fd35db834d4793e293e4968943aa": {
          "model_module": "@jupyter-widgets/base",
          "model_name": "LayoutModel",
          "model_module_version": "1.2.0",
          "state": {
            "_model_module": "@jupyter-widgets/base",
            "_model_module_version": "1.2.0",
            "_model_name": "LayoutModel",
            "_view_count": null,
            "_view_module": "@jupyter-widgets/base",
            "_view_module_version": "1.2.0",
            "_view_name": "LayoutView",
            "align_content": null,
            "align_items": null,
            "align_self": null,
            "border": null,
            "bottom": null,
            "display": null,
            "flex": null,
            "flex_flow": null,
            "grid_area": null,
            "grid_auto_columns": null,
            "grid_auto_flow": null,
            "grid_auto_rows": null,
            "grid_column": null,
            "grid_gap": null,
            "grid_row": null,
            "grid_template_areas": null,
            "grid_template_columns": null,
            "grid_template_rows": null,
            "height": null,
            "justify_content": null,
            "justify_items": null,
            "left": null,
            "margin": null,
            "max_height": null,
            "max_width": null,
            "min_height": null,
            "min_width": null,
            "object_fit": null,
            "object_position": null,
            "order": null,
            "overflow": null,
            "overflow_x": null,
            "overflow_y": null,
            "padding": null,
            "right": null,
            "top": null,
            "visibility": null,
            "width": null
          }
        },
        "0ba41410b97c449fb86c81026e6e4459": {
          "model_module": "@jupyter-widgets/controls",
          "model_name": "DescriptionStyleModel",
          "model_module_version": "1.5.0",
          "state": {
            "_model_module": "@jupyter-widgets/controls",
            "_model_module_version": "1.5.0",
            "_model_name": "DescriptionStyleModel",
            "_view_count": null,
            "_view_module": "@jupyter-widgets/base",
            "_view_module_version": "1.2.0",
            "_view_name": "StyleView",
            "description_width": ""
          }
        },
        "374fe9f73a1c401e8d768bf07e2ef759": {
          "model_module": "@jupyter-widgets/base",
          "model_name": "LayoutModel",
          "model_module_version": "1.2.0",
          "state": {
            "_model_module": "@jupyter-widgets/base",
            "_model_module_version": "1.2.0",
            "_model_name": "LayoutModel",
            "_view_count": null,
            "_view_module": "@jupyter-widgets/base",
            "_view_module_version": "1.2.0",
            "_view_name": "LayoutView",
            "align_content": null,
            "align_items": null,
            "align_self": null,
            "border": null,
            "bottom": null,
            "display": null,
            "flex": null,
            "flex_flow": null,
            "grid_area": null,
            "grid_auto_columns": null,
            "grid_auto_flow": null,
            "grid_auto_rows": null,
            "grid_column": null,
            "grid_gap": null,
            "grid_row": null,
            "grid_template_areas": null,
            "grid_template_columns": null,
            "grid_template_rows": null,
            "height": null,
            "justify_content": null,
            "justify_items": null,
            "left": null,
            "margin": null,
            "max_height": null,
            "max_width": null,
            "min_height": null,
            "min_width": null,
            "object_fit": null,
            "object_position": null,
            "order": null,
            "overflow": null,
            "overflow_x": null,
            "overflow_y": null,
            "padding": null,
            "right": null,
            "top": null,
            "visibility": null,
            "width": null
          }
        },
        "0822a5470b4d44ab8950f390c62b4df1": {
          "model_module": "@jupyter-widgets/controls",
          "model_name": "ProgressStyleModel",
          "model_module_version": "1.5.0",
          "state": {
            "_model_module": "@jupyter-widgets/controls",
            "_model_module_version": "1.5.0",
            "_model_name": "ProgressStyleModel",
            "_view_count": null,
            "_view_module": "@jupyter-widgets/base",
            "_view_module_version": "1.2.0",
            "_view_name": "StyleView",
            "bar_color": null,
            "description_width": ""
          }
        },
        "6e1e4443b0d74b95bd7a9e6b10d559ac": {
          "model_module": "@jupyter-widgets/base",
          "model_name": "LayoutModel",
          "model_module_version": "1.2.0",
          "state": {
            "_model_module": "@jupyter-widgets/base",
            "_model_module_version": "1.2.0",
            "_model_name": "LayoutModel",
            "_view_count": null,
            "_view_module": "@jupyter-widgets/base",
            "_view_module_version": "1.2.0",
            "_view_name": "LayoutView",
            "align_content": null,
            "align_items": null,
            "align_self": null,
            "border": null,
            "bottom": null,
            "display": null,
            "flex": null,
            "flex_flow": null,
            "grid_area": null,
            "grid_auto_columns": null,
            "grid_auto_flow": null,
            "grid_auto_rows": null,
            "grid_column": null,
            "grid_gap": null,
            "grid_row": null,
            "grid_template_areas": null,
            "grid_template_columns": null,
            "grid_template_rows": null,
            "height": null,
            "justify_content": null,
            "justify_items": null,
            "left": null,
            "margin": null,
            "max_height": null,
            "max_width": null,
            "min_height": null,
            "min_width": null,
            "object_fit": null,
            "object_position": null,
            "order": null,
            "overflow": null,
            "overflow_x": null,
            "overflow_y": null,
            "padding": null,
            "right": null,
            "top": null,
            "visibility": null,
            "width": null
          }
        },
        "04705af0a74044c29afd1697dc3edc0d": {
          "model_module": "@jupyter-widgets/controls",
          "model_name": "DescriptionStyleModel",
          "model_module_version": "1.5.0",
          "state": {
            "_model_module": "@jupyter-widgets/controls",
            "_model_module_version": "1.5.0",
            "_model_name": "DescriptionStyleModel",
            "_view_count": null,
            "_view_module": "@jupyter-widgets/base",
            "_view_module_version": "1.2.0",
            "_view_name": "StyleView",
            "description_width": ""
          }
        }
      }
    }
  },
  "cells": [
    {
      "cell_type": "markdown",
      "metadata": {
        "id": "view-in-github",
        "colab_type": "text"
      },
      "source": [
        "<a href=\"https://colab.research.google.com/github/YunSeoHwan/DNN_Study/blob/main/C4_CNN/VGG_Classification.ipynb\" target=\"_parent\"><img src=\"https://colab.research.google.com/assets/colab-badge.svg\" alt=\"Open In Colab\"/></a>"
      ]
    },
    {
      "cell_type": "markdown",
      "source": [
        "# **VGG Classification**"
      ],
      "metadata": {
        "id": "9Ypki2nMIjn3"
      }
    },
    {
      "cell_type": "markdown",
      "source": [
        "# **Define Block**"
      ],
      "metadata": {
        "id": "o1uHmuuDZIic"
      }
    },
    {
      "cell_type": "code",
      "execution_count": 1,
      "metadata": {
        "id": "_wo-zdkp43tv"
      },
      "outputs": [],
      "source": [
        "import torch\n",
        "import torch.nn as nn\n",
        "\n",
        "class BasicBlock(nn.Module):\n",
        "\n",
        "    # define layer\n",
        "    def __init__(self, in_channels, out_channels, hidden_dim):\n",
        "        # 상속 요소\n",
        "        super(BasicBlock, self).__init__()\n",
        "\n",
        "        # define conv layer\n",
        "        self.conv1 = nn.Conv2d(in_channels, hidden_dim,\n",
        "                               kernel_size=3, padding=1)\n",
        "        self.conv2 = nn.Conv2d(hidden_dim, out_channels,\n",
        "                               kernel_size=3, padding=1)\n",
        "        self.relu = nn.ReLU()\n",
        "\n",
        "        # pooling, stride -> size 절반\n",
        "        self.pool = nn.MaxPool2d(kernel_size=2, stride=2)\n",
        "    \n",
        "    # define 순전파\n",
        "    def forward(self, x):\n",
        "        x = self.conv1(x)\n",
        "        x = self.relu(x)\n",
        "        x = self.conv2(x)\n",
        "        x = self.relu(x)\n",
        "        x = self.pool(x)\n",
        "\n",
        "        return x"
      ]
    },
    {
      "cell_type": "markdown",
      "source": [
        "# **Define Model**"
      ],
      "metadata": {
        "id": "caAa6sWDZNt_"
      }
    },
    {
      "cell_type": "code",
      "source": [
        "class CNN(nn.Module):\n",
        "    def __init__(self, num_classes):\n",
        "        \n",
        "        super(CNN, self).__init__()\n",
        "    \n",
        "        # 합성곱 기본 블록 정의\n",
        "        self.block1 = BasicBlock(in_channels=3, out_channels=32, hidden_dim=16)\n",
        "        self.block2 = BasicBlock(in_channels=32, out_channels=128, hidden_dim=64)\n",
        "        self.block3 = BasicBlock(in_channels=128, out_channels=256, hidden_dim=128)\n",
        "\n",
        "        # fully connected\n",
        "        self.fc1 = nn.Linear(in_features=4096, out_features=2048)       # 4 x 4 x 256 = 4096\n",
        "        self.fc2 = nn.Linear(in_features=2048, out_features=256)\n",
        "        self.fc3 = nn.Linear(in_features=256, out_features=num_classes)\n",
        "\n",
        "        # activation function\n",
        "        self.relu = nn.ReLU()\n",
        "    \n",
        "    def forward(self, x):\n",
        "        x = self.block1(x)\n",
        "        x = self.block2(x)\n",
        "        x = self.block3(x)                  # (-1, 256, 4, 4) -> batch는 무시\n",
        "        x = torch.flatten(x, start_dim=1)   # 1차원으로\n",
        "\n",
        "        x = self.fc1(x)\n",
        "        x = self.relu(x)\n",
        "        x = self.fc2(x)\n",
        "        x = self.relu(x)\n",
        "        x = self.fc3(x)\n",
        "\n",
        "        return x"
      ],
      "metadata": {
        "id": "gdDTEgw3ZNT_"
      },
      "execution_count": 2,
      "outputs": []
    },
    {
      "cell_type": "markdown",
      "source": [
        "# **Data Load & Define Model**"
      ],
      "metadata": {
        "id": "1R2LdVGqn34n"
      }
    },
    {
      "cell_type": "code",
      "source": [
        "from torch.cuda import device_count\n",
        "\n",
        "from torchvision.transforms import Compose\n",
        "from torchvision.transforms import RandomHorizontalFlip, RandomCrop\n",
        "from torch.utils.data.dataloader import DataLoader\n",
        "from torch.optim.adam import Adam\n",
        "from torchvision.transforms import Normalize\n",
        "from torchvision.datasets.cifar import CIFAR10\n",
        "from torchvision.transforms import ToTensor\n",
        "\n",
        "transforms = Compose([\n",
        "    RandomCrop((32, 32), padding=4),\n",
        "    RandomHorizontalFlip(p=0.5),\n",
        "    ToTensor(),\n",
        "    Normalize(mean=(0.4914, 0.4822, 0.4465), std=(0.247, 0.243, 0.261))\n",
        "])\n",
        "\n",
        "# data load\n",
        "training_data = CIFAR10(\n",
        "    root=\"./\",\n",
        "    train=True,\n",
        "    download=True,\n",
        "    transform=transforms)\n",
        "\n",
        "test_data = CIFAR10(\n",
        "    root=\"./\",\n",
        "    train=False,\n",
        "    download=True,\n",
        "    transform=transforms)\n",
        "\n",
        "# define loader\n",
        "train_loader = DataLoader(training_data, batch_size=32, shuffle=True)\n",
        "test_loader = DataLoader(test_data, batch_size=32, shuffle=False)\n",
        "\n",
        "# processor\n",
        "device = \"cuda\" if torch.cuda.is_available() else \"cpu\"\n",
        "\n",
        "# define model\n",
        "model = CNN(num_classes=10)\n",
        "\n",
        "model.to(device)"
      ],
      "metadata": {
        "colab": {
          "base_uri": "https://localhost:8080/",
          "height": 545,
          "referenced_widgets": [
            "d51753e9f42a412aa4dba9386973de88",
            "82956de099014cf49d6cf01a0142df62",
            "a0a3e3fac95e4136a07bc4fc0e7766cb",
            "10a6db4d2bd84d8bbde8e808711ee948",
            "938be2f00e9948a5aff69a119b937e89",
            "1880fd35db834d4793e293e4968943aa",
            "0ba41410b97c449fb86c81026e6e4459",
            "374fe9f73a1c401e8d768bf07e2ef759",
            "0822a5470b4d44ab8950f390c62b4df1",
            "6e1e4443b0d74b95bd7a9e6b10d559ac",
            "04705af0a74044c29afd1697dc3edc0d"
          ]
        },
        "id": "jTNcywiHn8AW",
        "outputId": "5c4467a2-6359-4402-edf6-c7a0a38cb2f2"
      },
      "execution_count": 3,
      "outputs": [
        {
          "output_type": "stream",
          "name": "stdout",
          "text": [
            "Downloading https://www.cs.toronto.edu/~kriz/cifar-10-python.tar.gz to ./cifar-10-python.tar.gz\n"
          ]
        },
        {
          "output_type": "display_data",
          "data": {
            "text/plain": [
              "  0%|          | 0/170498071 [00:00<?, ?it/s]"
            ],
            "application/vnd.jupyter.widget-view+json": {
              "version_major": 2,
              "version_minor": 0,
              "model_id": "d51753e9f42a412aa4dba9386973de88"
            }
          },
          "metadata": {}
        },
        {
          "output_type": "stream",
          "name": "stdout",
          "text": [
            "Extracting ./cifar-10-python.tar.gz to ./\n",
            "Files already downloaded and verified\n"
          ]
        },
        {
          "output_type": "execute_result",
          "data": {
            "text/plain": [
              "CNN(\n",
              "  (block1): BasicBlock(\n",
              "    (conv1): Conv2d(3, 16, kernel_size=(3, 3), stride=(1, 1), padding=(1, 1))\n",
              "    (conv2): Conv2d(16, 32, kernel_size=(3, 3), stride=(1, 1), padding=(1, 1))\n",
              "    (relu): ReLU()\n",
              "    (pool): MaxPool2d(kernel_size=2, stride=2, padding=0, dilation=1, ceil_mode=False)\n",
              "  )\n",
              "  (block2): BasicBlock(\n",
              "    (conv1): Conv2d(32, 64, kernel_size=(3, 3), stride=(1, 1), padding=(1, 1))\n",
              "    (conv2): Conv2d(64, 128, kernel_size=(3, 3), stride=(1, 1), padding=(1, 1))\n",
              "    (relu): ReLU()\n",
              "    (pool): MaxPool2d(kernel_size=2, stride=2, padding=0, dilation=1, ceil_mode=False)\n",
              "  )\n",
              "  (block3): BasicBlock(\n",
              "    (conv1): Conv2d(128, 128, kernel_size=(3, 3), stride=(1, 1), padding=(1, 1))\n",
              "    (conv2): Conv2d(128, 256, kernel_size=(3, 3), stride=(1, 1), padding=(1, 1))\n",
              "    (relu): ReLU()\n",
              "    (pool): MaxPool2d(kernel_size=2, stride=2, padding=0, dilation=1, ceil_mode=False)\n",
              "  )\n",
              "  (fc1): Linear(in_features=4096, out_features=2048, bias=True)\n",
              "  (fc2): Linear(in_features=2048, out_features=256, bias=True)\n",
              "  (fc3): Linear(in_features=256, out_features=10, bias=True)\n",
              "  (relu): ReLU()\n",
              ")"
            ]
          },
          "metadata": {},
          "execution_count": 3
        }
      ]
    },
    {
      "cell_type": "markdown",
      "source": [
        "# **Training**"
      ],
      "metadata": {
        "id": "n95J3Su1p61m"
      }
    },
    {
      "cell_type": "code",
      "source": [
        "# learning_rate\n",
        "lr = 1e-3\n",
        "\n",
        "# optimization\n",
        "optim = Adam(model.parameters(), lr=lr)\n",
        "\n",
        "for epoch in range(100):\n",
        "    for data, label in train_loader:\n",
        "\n",
        "        # 기울기 초기화\n",
        "        optim.zero_grad()\n",
        "\n",
        "        # predict\n",
        "        pred = model(data.to(device))\n",
        "\n",
        "        # backpropagation\n",
        "        loss = nn.CrossEntropyLoss()(pred, label.to(device))\n",
        "        loss.backward()\n",
        "        optim.step()\n",
        "    \n",
        "    if epoch == 0 or epoch % 10 == 9:\n",
        "        print(f\"epoch{epoch + 1} loss : {loss.item()}\")\n",
        "\n",
        "# save\n",
        "torch.save(model.state_dict(), \"CIFAR.pth\")"
      ],
      "metadata": {
        "colab": {
          "base_uri": "https://localhost:8080/"
        },
        "id": "5EJxv8OTqKtJ",
        "outputId": "c19ae7a1-6bea-4819-9ed2-5e1c7cbb8fbe"
      },
      "execution_count": 4,
      "outputs": [
        {
          "output_type": "stream",
          "name": "stdout",
          "text": [
            "epoch1 loss : 1.177912950515747\n",
            "epoch10 loss : 0.5645318627357483\n",
            "epoch20 loss : 0.279543936252594\n",
            "epoch30 loss : 1.3675956726074219\n",
            "epoch40 loss : 0.576065182685852\n",
            "epoch50 loss : 0.2819298505783081\n",
            "epoch60 loss : 0.39476504921913147\n",
            "epoch70 loss : 1.0638748407363892\n",
            "epoch80 loss : 0.6258436441421509\n",
            "epoch90 loss : 0.5969761610031128\n",
            "epoch100 loss : 0.5790769457817078\n"
          ]
        }
      ]
    },
    {
      "cell_type": "markdown",
      "source": [
        "# **Predict**"
      ],
      "metadata": {
        "id": "RDqpdxprCOMa"
      }
    },
    {
      "cell_type": "code",
      "source": [
        "model.load_state_dict(torch.load(\"CIFAR.pth\", map_location=device))\n",
        "\n",
        "num_corr = 0\n",
        "\n",
        "with torch.no_grad():\n",
        "    for data, label in test_loader:\n",
        "\n",
        "        output = model(data.to(device))\n",
        "        pred = output.data.max(1)[1]\n",
        "        corr = pred.eq(label.to(device).data).sum().item()\n",
        "        num_corr += corr\n",
        "    \n",
        "    print(f\"Accuracy : {num_corr / len(test_data)}\")"
      ],
      "metadata": {
        "id": "IczHv42CCTs0",
        "colab": {
          "base_uri": "https://localhost:8080/"
        },
        "outputId": "02e579be-b43d-42a0-c7cb-322f226cc709"
      },
      "execution_count": 5,
      "outputs": [
        {
          "output_type": "stream",
          "name": "stdout",
          "text": [
            "Accuracy : 0.8178\n"
          ]
        }
      ]
    }
  ]
}