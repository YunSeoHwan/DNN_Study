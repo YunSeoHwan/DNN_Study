{
  "nbformat": 4,
  "nbformat_minor": 0,
  "metadata": {
    "colab": {
      "provenance": [],
      "authorship_tag": "ABX9TyOzFZdcN5k4xCt5cQmQpXtw",
      "include_colab_link": true
    },
    "kernelspec": {
      "name": "python3",
      "display_name": "Python 3"
    },
    "language_info": {
      "name": "python"
    },
    "accelerator": "GPU",
    "gpuClass": "standard"
  },
  "cells": [
    {
      "cell_type": "markdown",
      "metadata": {
        "id": "view-in-github",
        "colab_type": "text"
      },
      "source": [
        "<a href=\"https://colab.research.google.com/github/YunSeoHwan/DNN_Study/blob/main/optimization.ipynb\" target=\"_parent\"><img src=\"https://colab.research.google.com/assets/colab-badge.svg\" alt=\"Open In Colab\"/></a>"
      ]
    },
    {
      "cell_type": "markdown",
      "source": [
        "# **Import**"
      ],
      "metadata": {
        "id": "CTsaWWO7SWfX"
      }
    },
    {
      "cell_type": "code",
      "source": [
        "!pip install bayesian-optimization"
      ],
      "metadata": {
        "colab": {
          "base_uri": "https://localhost:8080/"
        },
        "id": "GNGWSkMG_sAN",
        "outputId": "c66e5e9a-fefd-48e7-8fce-2a1ff1e63cc6"
      },
      "execution_count": 12,
      "outputs": [
        {
          "output_type": "stream",
          "name": "stdout",
          "text": [
            "Looking in indexes: https://pypi.org/simple, https://us-python.pkg.dev/colab-wheels/public/simple/\n",
            "Collecting bayesian-optimization\n",
            "  Downloading bayesian_optimization-1.4.2-py3-none-any.whl (17 kB)\n",
            "Collecting colorama>=0.4.6\n",
            "  Downloading colorama-0.4.6-py2.py3-none-any.whl (25 kB)\n",
            "Requirement already satisfied: scipy>=1.0.0 in /usr/local/lib/python3.8/dist-packages (from bayesian-optimization) (1.7.3)\n",
            "Requirement already satisfied: numpy>=1.9.0 in /usr/local/lib/python3.8/dist-packages (from bayesian-optimization) (1.21.6)\n",
            "Requirement already satisfied: scikit-learn>=0.18.0 in /usr/local/lib/python3.8/dist-packages (from bayesian-optimization) (1.0.2)\n",
            "Requirement already satisfied: threadpoolctl>=2.0.0 in /usr/local/lib/python3.8/dist-packages (from scikit-learn>=0.18.0->bayesian-optimization) (3.1.0)\n",
            "Requirement already satisfied: joblib>=0.11 in /usr/local/lib/python3.8/dist-packages (from scikit-learn>=0.18.0->bayesian-optimization) (1.2.0)\n",
            "Installing collected packages: colorama, bayesian-optimization\n",
            "Successfully installed bayesian-optimization-1.4.2 colorama-0.4.6\n"
          ]
        }
      ]
    },
    {
      "cell_type": "code",
      "execution_count": 52,
      "metadata": {
        "id": "ay9tmNvvSMC-"
      },
      "outputs": [],
      "source": [
        "import pandas as pd\n",
        "import random\n",
        "import os\n",
        "import numpy as np\n",
        "import lightgbm as lgb\n",
        "import warnings\n",
        "warnings.filterwarnings('ignore')\n",
        "\n",
        "from bayes_opt import BayesianOptimization\n",
        "from sklearn.metrics import make_scorer, roc_auc_score\n",
        "from xgboost import XGBClassifier\n",
        "from sklearn.preprocessing import LabelEncoder\n",
        "from sklearn.ensemble import GradientBoostingClassifier\n",
        "from sklearn.model_selection import cross_validate\n",
        "from sklearn.model_selection import cross_val_score\n",
        "from sklearn.model_selection import train_test_split\n",
        "from sklearn.metrics import accuracy_score, recall_score, precision_score, mean_squared_error, mean_absolute_error, r2_score"
      ]
    },
    {
      "cell_type": "code",
      "source": [
        "def seed_everything(seed):\n",
        "    random.seed(seed)\n",
        "    os.environ['PYTHONHASHSEED'] = str(seed)\n",
        "    np.random.seed(seed)\n",
        "seed_everything(37) # Seed 고정"
      ],
      "metadata": {
        "id": "LvMZKCVwSdiB"
      },
      "execution_count": 4,
      "outputs": []
    },
    {
      "cell_type": "markdown",
      "source": [
        "# **Data Load**"
      ],
      "metadata": {
        "id": "VCxGZGpsSdNu"
      }
    },
    {
      "cell_type": "code",
      "source": [
        "train_df = pd.read_csv('/content/train.csv')\n",
        "test_df = pd.read_csv('/content/test.csv')"
      ],
      "metadata": {
        "id": "81zZZAwfSiA8"
      },
      "execution_count": 30,
      "outputs": []
    },
    {
      "cell_type": "code",
      "source": [
        "train_x = train_df.drop(columns=['PRODUCT_ID', 'TIMESTAMP', 'Y_Class', 'Y_Quality'])\n",
        "\n",
        "# 정답 target\n",
        "train_y = train_df['Y_Class']\n",
        "\n",
        "test_x = test_df.drop(columns=['PRODUCT_ID', 'TIMESTAMP'])"
      ],
      "metadata": {
        "id": "Xixh7b8RSs9t"
      },
      "execution_count": 38,
      "outputs": []
    },
    {
      "cell_type": "markdown",
      "source": [
        "# **Data Pre-processing**"
      ],
      "metadata": {
        "id": "uCDxVKgWSvuB"
      }
    },
    {
      "cell_type": "code",
      "source": [
        "# 결측치 0으로\n",
        "train_x = train_x.fillna(0)\n",
        "test_x = test_x.fillna(0)\n",
        "\n",
        "# split data\n",
        "x_train, x_test, y_train, y_test = train_test_split(train_x, train_y, test_size = 0.25, random_state = 0)"
      ],
      "metadata": {
        "id": "YBWtRQRXSzNm"
      },
      "execution_count": 40,
      "outputs": []
    },
    {
      "cell_type": "code",
      "source": [
        "# qualitative to quantitative\n",
        "# 이름을 숫자로 변환\n",
        "qual_col = ['LINE', 'PRODUCT_CODE']\n",
        "\n",
        "for i in qual_col:\n",
        "    le = LabelEncoder()\n",
        "    le = le.fit(x_train[i])\n",
        "    l = LabelEncoder()\n",
        "    l = l.fit(test_x[i])\n",
        "\n",
        "    x_train[i] = le.transform(x_train[i])\n",
        "    test_x[i] = l.transform(test_x[i])\n",
        "\n",
        "    for label in np.unique(x_test[i]):\n",
        "        if label not in le.classes_: \n",
        "            le.classes_ = np.append(le.classes_, label)\n",
        "    x_test[i] = le.transform(x_test[i])\n",
        "\n",
        "print('Done.')"
      ],
      "metadata": {
        "id": "-oZC1pP_S0Yg",
        "colab": {
          "base_uri": "https://localhost:8080/",
          "height": 254
        },
        "outputId": "e6a0757a-b9ab-4a46-c1a9-a7d467c9c6ad"
      },
      "execution_count": 42,
      "outputs": [
        {
          "output_type": "stream",
          "name": "stdout",
          "text": [
            "Done.\n"
          ]
        },
        {
          "output_type": "execute_result",
          "data": {
            "text/plain": [
              "   LINE  PRODUCT_CODE  X_1   X_2  X_3   X_4   X_5  X_6   X_7   X_8  ...  \\\n",
              "0     5             2  2.0  94.0  0.0  45.0  10.0  0.0  51.0  10.0  ...   \n",
              "1     4             2  2.0  93.0  0.0  45.0  11.0  0.0  45.0  10.0  ...   \n",
              "2     4             2  2.0  95.0  0.0  45.0  11.0  0.0  45.0  10.0  ...   \n",
              "3     0             0  0.0   0.0  0.0   0.0   0.0  0.0   0.0   0.0  ...   \n",
              "4     1             0  0.0   0.0  0.0   0.0   0.0  0.0   0.0   0.0  ...   \n",
              "\n",
              "   X_2866  X_2867  X_2868  X_2869  X_2870  X_2871  X_2872  X_2873  X_2874  \\\n",
              "0     0.0     0.0     0.0     0.0     0.0     0.0     0.0     0.0     0.0   \n",
              "1     0.0     0.0     0.0     0.0     0.0     0.0     0.0     0.0     0.0   \n",
              "2     0.0     0.0     0.0     0.0     0.0     0.0     0.0     0.0     0.0   \n",
              "3     0.0     0.0     0.0     0.0     0.0     0.0     0.0     0.0     0.0   \n",
              "4     0.0     0.0     0.0     0.0     0.0     0.0     0.0     0.0     0.0   \n",
              "\n",
              "   X_2875  \n",
              "0     0.0  \n",
              "1     0.0  \n",
              "2     0.0  \n",
              "3     0.0  \n",
              "4     0.0  \n",
              "\n",
              "[5 rows x 2877 columns]"
            ],
            "text/html": [
              "\n",
              "  <div id=\"df-64ee55a0-7881-45f2-a10e-567b5655f0a3\">\n",
              "    <div class=\"colab-df-container\">\n",
              "      <div>\n",
              "<style scoped>\n",
              "    .dataframe tbody tr th:only-of-type {\n",
              "        vertical-align: middle;\n",
              "    }\n",
              "\n",
              "    .dataframe tbody tr th {\n",
              "        vertical-align: top;\n",
              "    }\n",
              "\n",
              "    .dataframe thead th {\n",
              "        text-align: right;\n",
              "    }\n",
              "</style>\n",
              "<table border=\"1\" class=\"dataframe\">\n",
              "  <thead>\n",
              "    <tr style=\"text-align: right;\">\n",
              "      <th></th>\n",
              "      <th>LINE</th>\n",
              "      <th>PRODUCT_CODE</th>\n",
              "      <th>X_1</th>\n",
              "      <th>X_2</th>\n",
              "      <th>X_3</th>\n",
              "      <th>X_4</th>\n",
              "      <th>X_5</th>\n",
              "      <th>X_6</th>\n",
              "      <th>X_7</th>\n",
              "      <th>X_8</th>\n",
              "      <th>...</th>\n",
              "      <th>X_2866</th>\n",
              "      <th>X_2867</th>\n",
              "      <th>X_2868</th>\n",
              "      <th>X_2869</th>\n",
              "      <th>X_2870</th>\n",
              "      <th>X_2871</th>\n",
              "      <th>X_2872</th>\n",
              "      <th>X_2873</th>\n",
              "      <th>X_2874</th>\n",
              "      <th>X_2875</th>\n",
              "    </tr>\n",
              "  </thead>\n",
              "  <tbody>\n",
              "    <tr>\n",
              "      <th>0</th>\n",
              "      <td>5</td>\n",
              "      <td>2</td>\n",
              "      <td>2.0</td>\n",
              "      <td>94.0</td>\n",
              "      <td>0.0</td>\n",
              "      <td>45.0</td>\n",
              "      <td>10.0</td>\n",
              "      <td>0.0</td>\n",
              "      <td>51.0</td>\n",
              "      <td>10.0</td>\n",
              "      <td>...</td>\n",
              "      <td>0.0</td>\n",
              "      <td>0.0</td>\n",
              "      <td>0.0</td>\n",
              "      <td>0.0</td>\n",
              "      <td>0.0</td>\n",
              "      <td>0.0</td>\n",
              "      <td>0.0</td>\n",
              "      <td>0.0</td>\n",
              "      <td>0.0</td>\n",
              "      <td>0.0</td>\n",
              "    </tr>\n",
              "    <tr>\n",
              "      <th>1</th>\n",
              "      <td>4</td>\n",
              "      <td>2</td>\n",
              "      <td>2.0</td>\n",
              "      <td>93.0</td>\n",
              "      <td>0.0</td>\n",
              "      <td>45.0</td>\n",
              "      <td>11.0</td>\n",
              "      <td>0.0</td>\n",
              "      <td>45.0</td>\n",
              "      <td>10.0</td>\n",
              "      <td>...</td>\n",
              "      <td>0.0</td>\n",
              "      <td>0.0</td>\n",
              "      <td>0.0</td>\n",
              "      <td>0.0</td>\n",
              "      <td>0.0</td>\n",
              "      <td>0.0</td>\n",
              "      <td>0.0</td>\n",
              "      <td>0.0</td>\n",
              "      <td>0.0</td>\n",
              "      <td>0.0</td>\n",
              "    </tr>\n",
              "    <tr>\n",
              "      <th>2</th>\n",
              "      <td>4</td>\n",
              "      <td>2</td>\n",
              "      <td>2.0</td>\n",
              "      <td>95.0</td>\n",
              "      <td>0.0</td>\n",
              "      <td>45.0</td>\n",
              "      <td>11.0</td>\n",
              "      <td>0.0</td>\n",
              "      <td>45.0</td>\n",
              "      <td>10.0</td>\n",
              "      <td>...</td>\n",
              "      <td>0.0</td>\n",
              "      <td>0.0</td>\n",
              "      <td>0.0</td>\n",
              "      <td>0.0</td>\n",
              "      <td>0.0</td>\n",
              "      <td>0.0</td>\n",
              "      <td>0.0</td>\n",
              "      <td>0.0</td>\n",
              "      <td>0.0</td>\n",
              "      <td>0.0</td>\n",
              "    </tr>\n",
              "    <tr>\n",
              "      <th>3</th>\n",
              "      <td>0</td>\n",
              "      <td>0</td>\n",
              "      <td>0.0</td>\n",
              "      <td>0.0</td>\n",
              "      <td>0.0</td>\n",
              "      <td>0.0</td>\n",
              "      <td>0.0</td>\n",
              "      <td>0.0</td>\n",
              "      <td>0.0</td>\n",
              "      <td>0.0</td>\n",
              "      <td>...</td>\n",
              "      <td>0.0</td>\n",
              "      <td>0.0</td>\n",
              "      <td>0.0</td>\n",
              "      <td>0.0</td>\n",
              "      <td>0.0</td>\n",
              "      <td>0.0</td>\n",
              "      <td>0.0</td>\n",
              "      <td>0.0</td>\n",
              "      <td>0.0</td>\n",
              "      <td>0.0</td>\n",
              "    </tr>\n",
              "    <tr>\n",
              "      <th>4</th>\n",
              "      <td>1</td>\n",
              "      <td>0</td>\n",
              "      <td>0.0</td>\n",
              "      <td>0.0</td>\n",
              "      <td>0.0</td>\n",
              "      <td>0.0</td>\n",
              "      <td>0.0</td>\n",
              "      <td>0.0</td>\n",
              "      <td>0.0</td>\n",
              "      <td>0.0</td>\n",
              "      <td>...</td>\n",
              "      <td>0.0</td>\n",
              "      <td>0.0</td>\n",
              "      <td>0.0</td>\n",
              "      <td>0.0</td>\n",
              "      <td>0.0</td>\n",
              "      <td>0.0</td>\n",
              "      <td>0.0</td>\n",
              "      <td>0.0</td>\n",
              "      <td>0.0</td>\n",
              "      <td>0.0</td>\n",
              "    </tr>\n",
              "  </tbody>\n",
              "</table>\n",
              "<p>5 rows × 2877 columns</p>\n",
              "</div>\n",
              "      <button class=\"colab-df-convert\" onclick=\"convertToInteractive('df-64ee55a0-7881-45f2-a10e-567b5655f0a3')\"\n",
              "              title=\"Convert this dataframe to an interactive table.\"\n",
              "              style=\"display:none;\">\n",
              "        \n",
              "  <svg xmlns=\"http://www.w3.org/2000/svg\" height=\"24px\"viewBox=\"0 0 24 24\"\n",
              "       width=\"24px\">\n",
              "    <path d=\"M0 0h24v24H0V0z\" fill=\"none\"/>\n",
              "    <path d=\"M18.56 5.44l.94 2.06.94-2.06 2.06-.94-2.06-.94-.94-2.06-.94 2.06-2.06.94zm-11 1L8.5 8.5l.94-2.06 2.06-.94-2.06-.94L8.5 2.5l-.94 2.06-2.06.94zm10 10l.94 2.06.94-2.06 2.06-.94-2.06-.94-.94-2.06-.94 2.06-2.06.94z\"/><path d=\"M17.41 7.96l-1.37-1.37c-.4-.4-.92-.59-1.43-.59-.52 0-1.04.2-1.43.59L10.3 9.45l-7.72 7.72c-.78.78-.78 2.05 0 2.83L4 21.41c.39.39.9.59 1.41.59.51 0 1.02-.2 1.41-.59l7.78-7.78 2.81-2.81c.8-.78.8-2.07 0-2.86zM5.41 20L4 18.59l7.72-7.72 1.47 1.35L5.41 20z\"/>\n",
              "  </svg>\n",
              "      </button>\n",
              "      \n",
              "  <style>\n",
              "    .colab-df-container {\n",
              "      display:flex;\n",
              "      flex-wrap:wrap;\n",
              "      gap: 12px;\n",
              "    }\n",
              "\n",
              "    .colab-df-convert {\n",
              "      background-color: #E8F0FE;\n",
              "      border: none;\n",
              "      border-radius: 50%;\n",
              "      cursor: pointer;\n",
              "      display: none;\n",
              "      fill: #1967D2;\n",
              "      height: 32px;\n",
              "      padding: 0 0 0 0;\n",
              "      width: 32px;\n",
              "    }\n",
              "\n",
              "    .colab-df-convert:hover {\n",
              "      background-color: #E2EBFA;\n",
              "      box-shadow: 0px 1px 2px rgba(60, 64, 67, 0.3), 0px 1px 3px 1px rgba(60, 64, 67, 0.15);\n",
              "      fill: #174EA6;\n",
              "    }\n",
              "\n",
              "    [theme=dark] .colab-df-convert {\n",
              "      background-color: #3B4455;\n",
              "      fill: #D2E3FC;\n",
              "    }\n",
              "\n",
              "    [theme=dark] .colab-df-convert:hover {\n",
              "      background-color: #434B5C;\n",
              "      box-shadow: 0px 1px 3px 1px rgba(0, 0, 0, 0.15);\n",
              "      filter: drop-shadow(0px 1px 2px rgba(0, 0, 0, 0.3));\n",
              "      fill: #FFFFFF;\n",
              "    }\n",
              "  </style>\n",
              "\n",
              "      <script>\n",
              "        const buttonEl =\n",
              "          document.querySelector('#df-64ee55a0-7881-45f2-a10e-567b5655f0a3 button.colab-df-convert');\n",
              "        buttonEl.style.display =\n",
              "          google.colab.kernel.accessAllowed ? 'block' : 'none';\n",
              "\n",
              "        async function convertToInteractive(key) {\n",
              "          const element = document.querySelector('#df-64ee55a0-7881-45f2-a10e-567b5655f0a3');\n",
              "          const dataTable =\n",
              "            await google.colab.kernel.invokeFunction('convertToInteractive',\n",
              "                                                     [key], {});\n",
              "          if (!dataTable) return;\n",
              "\n",
              "          const docLinkHtml = 'Like what you see? Visit the ' +\n",
              "            '<a target=\"_blank\" href=https://colab.research.google.com/notebooks/data_table.ipynb>data table notebook</a>'\n",
              "            + ' to learn more about interactive tables.';\n",
              "          element.innerHTML = '';\n",
              "          dataTable['output_type'] = 'display_data';\n",
              "          await google.colab.output.renderOutput(dataTable, element);\n",
              "          const docLink = document.createElement('div');\n",
              "          docLink.innerHTML = docLinkHtml;\n",
              "          element.appendChild(docLink);\n",
              "        }\n",
              "      </script>\n",
              "    </div>\n",
              "  </div>\n",
              "  "
            ]
          },
          "metadata": {},
          "execution_count": 42
        }
      ]
    },
    {
      "cell_type": "markdown",
      "source": [
        "# **Optimization**"
      ],
      "metadata": {
        "id": "FRGXiBXlS29V"
      }
    },
    {
      "cell_type": "code",
      "source": [
        "# 탐색 대상 함수 (XGBClassifier)\n",
        "def XGB_cv(max_depth,learning_rate, n_estimators, gamma\n",
        "            ,min_child_weight, subsample\n",
        "            ,colsample_bytree, silent=True, nthread=-1):\n",
        "\n",
        "    # 모델 정의\n",
        "    model = XGBClassifier(max_depth=int(max_depth),\n",
        "                            learning_rate=learning_rate,\n",
        "                            n_estimators=int(n_estimators),\n",
        "                            gamma=gamma,\n",
        "                            min_child_weight=min_child_weight,\n",
        "                            subsample=subsample,\n",
        "                            colsample_bytree=colsample_bytree, \n",
        "                            nthread=nthread\n",
        "                            )\n",
        "    # 모델 훈련\n",
        "    model.fit(x_train, y_train)\n",
        "\n",
        "    # 예측값 출력\n",
        "    pred = model.predict(x_test)\n",
        "\n",
        "    # 예측률\n",
        "    result = accuracy_score(y_test, pred)\n",
        "\n",
        "    # 오차 최적화로 사용할 metric 반환\n",
        "    return result\n",
        "\n",
        "# 실험해보고자하는 hyperparameter 집합\n",
        "pbounds = {'max_depth': (3, 7),\n",
        "            'learning_rate': (0.01, 0.1),\n",
        "            'n_estimators': (80, 200),\n",
        "            'gamma': (0, 100),\n",
        "            'min_child_weight': (0, 3),\n",
        "            'subsample': (0.5, 1),\n",
        "            'colsample_bytree' :(0.2, 1)\n",
        "            }\n",
        "\n",
        "# Bayesian optimization 객체 생성\n",
        "# f : 탐색 대상 함수, pbounds : hyperparameter 집합\n",
        "# verbose = 2 항상 출력, verbose = 1 최댓값일 때 출력, verbose = 0 출력 안함\n",
        "# random_state : Bayesian Optimization 상의 랜덤성이 존재하는 부분을 통제 \n",
        "bo=BayesianOptimization(f=XGB_cv, pbounds=pbounds, verbose=2, random_state=37)    \n",
        "\n",
        "# 메소드를 이용해 최대화 과정 수행\n",
        "# init_points :  초기 Random Search 갯수\n",
        "# n_iter : 반복 횟수 (몇개의 입력값-함숫값 점들을 확인할지! 많을 수록 정확한 값을 얻을 수 있다.)\n",
        "# acq : Acquisition Function들 중 Expected Improvement(EI) 를 사용\n",
        "# xi : exploration 강도 (기본값은 0.0)\n",
        "bo.maximize(init_points=2, n_iter=10, acq='ei', xi=0.01)\n",
        "\n",
        "# ‘iter’는 반복 회차, ‘target’은 목적 함수의 값, 나머지는 입력값을 나타냅니다. \n",
        "# 현재 회차 이전까지 조사된 함숫값들과 비교하여, 현재 회차에 최댓값이 얻어진 경우, \n",
        "# bayesian-optimization 라이브러리는 이를 자동으로 다른 색 글자로 표시하는 것을 확인할 수 있습니다\n",
        "\n",
        "# 찾은 파라미터 값 확인\n",
        "print(bo.max)"
      ],
      "metadata": {
        "id": "wTfUQtmkS5b3",
        "colab": {
          "base_uri": "https://localhost:8080/"
        },
        "outputId": "d0a6a484-6d11-4ae8-f151-5f780a4dc74e"
      },
      "execution_count": 58,
      "outputs": [
        {
          "output_type": "stream",
          "name": "stdout",
          "text": [
            "|   iter    |  target   | colsam... |   gamma   | learni... | max_depth | min_ch... | n_esti... | subsample |\n",
            "-------------------------------------------------------------------------------------------------------------\n",
            "| \u001b[0m1        \u001b[0m | \u001b[0m0.6867   \u001b[0m | \u001b[0m0.9556   \u001b[0m | \u001b[0m46.41    \u001b[0m | \u001b[0m0.02735  \u001b[0m | \u001b[0m5.328    \u001b[0m | \u001b[0m1.86     \u001b[0m | \u001b[0m162.1    \u001b[0m | \u001b[0m0.5517   \u001b[0m |\n",
            "| \u001b[0m2        \u001b[0m | \u001b[0m0.6867   \u001b[0m | \u001b[0m0.7964   \u001b[0m | \u001b[0m28.2     \u001b[0m | \u001b[0m0.07781  \u001b[0m | \u001b[0m6.171    \u001b[0m | \u001b[0m1.882    \u001b[0m | \u001b[0m133.2    \u001b[0m | \u001b[0m0.9817   \u001b[0m |\n",
            "| \u001b[0m3        \u001b[0m | \u001b[0m0.6867   \u001b[0m | \u001b[0m0.2596   \u001b[0m | \u001b[0m99.11    \u001b[0m | \u001b[0m0.0369   \u001b[0m | \u001b[0m4.96     \u001b[0m | \u001b[0m1.736    \u001b[0m | \u001b[0m80.7     \u001b[0m | \u001b[0m0.5536   \u001b[0m |\n",
            "| \u001b[0m4        \u001b[0m | \u001b[0m0.6867   \u001b[0m | \u001b[0m0.9507   \u001b[0m | \u001b[0m98.75    \u001b[0m | \u001b[0m0.01618  \u001b[0m | \u001b[0m3.336    \u001b[0m | \u001b[0m2.204    \u001b[0m | \u001b[0m199.3    \u001b[0m | \u001b[0m0.9189   \u001b[0m |\n",
            "| \u001b[95m5        \u001b[0m | \u001b[95m0.78     \u001b[0m | \u001b[95m0.5006   \u001b[0m | \u001b[95m1.366    \u001b[0m | \u001b[95m0.02873  \u001b[0m | \u001b[95m4.315    \u001b[0m | \u001b[95m1.121    \u001b[0m | \u001b[95m80.6     \u001b[0m | \u001b[95m0.8555   \u001b[0m |\n",
            "| \u001b[0m6        \u001b[0m | \u001b[0m0.6867   \u001b[0m | \u001b[0m0.2      \u001b[0m | \u001b[0m22.36    \u001b[0m | \u001b[0m0.01     \u001b[0m | \u001b[0m3.0      \u001b[0m | \u001b[0m0.0      \u001b[0m | \u001b[0m80.0     \u001b[0m | \u001b[0m0.5      \u001b[0m |\n",
            "| \u001b[0m7        \u001b[0m | \u001b[0m0.7533   \u001b[0m | \u001b[0m0.8996   \u001b[0m | \u001b[0m1.955    \u001b[0m | \u001b[0m0.08513  \u001b[0m | \u001b[0m4.216    \u001b[0m | \u001b[0m1.177    \u001b[0m | \u001b[0m80.22    \u001b[0m | \u001b[0m0.6871   \u001b[0m |\n",
            "| \u001b[0m8        \u001b[0m | \u001b[0m0.7667   \u001b[0m | \u001b[0m0.8054   \u001b[0m | \u001b[0m0.4894   \u001b[0m | \u001b[0m0.02928  \u001b[0m | \u001b[0m4.428    \u001b[0m | \u001b[0m0.7063   \u001b[0m | \u001b[0m80.12    \u001b[0m | \u001b[0m0.9774   \u001b[0m |\n",
            "| \u001b[95m9        \u001b[0m | \u001b[95m0.8067   \u001b[0m | \u001b[95m0.3198   \u001b[0m | \u001b[95m0.9291   \u001b[0m | \u001b[95m0.08747  \u001b[0m | \u001b[95m5.049    \u001b[0m | \u001b[95m0.8224   \u001b[0m | \u001b[95m82.73    \u001b[0m | \u001b[95m0.6871   \u001b[0m |\n",
            "| \u001b[0m10       \u001b[0m | \u001b[0m0.7667   \u001b[0m | \u001b[0m0.6687   \u001b[0m | \u001b[0m0.524    \u001b[0m | \u001b[0m0.06747  \u001b[0m | \u001b[0m6.598    \u001b[0m | \u001b[0m2.659    \u001b[0m | \u001b[0m83.0     \u001b[0m | \u001b[0m0.7012   \u001b[0m |\n",
            "| \u001b[0m11       \u001b[0m | \u001b[0m0.76     \u001b[0m | \u001b[0m0.4139   \u001b[0m | \u001b[0m2.471    \u001b[0m | \u001b[0m0.02264  \u001b[0m | \u001b[0m3.775    \u001b[0m | \u001b[0m1.986    \u001b[0m | \u001b[0m85.49    \u001b[0m | \u001b[0m0.7126   \u001b[0m |\n",
            "| \u001b[0m12       \u001b[0m | \u001b[0m0.7867   \u001b[0m | \u001b[0m0.7785   \u001b[0m | \u001b[0m0.5467   \u001b[0m | \u001b[0m0.0231   \u001b[0m | \u001b[0m3.029    \u001b[0m | \u001b[0m0.08731  \u001b[0m | \u001b[0m82.5     \u001b[0m | \u001b[0m0.8509   \u001b[0m |\n",
            "=============================================================================================================\n",
            "{'target': 0.8066666666666666, 'params': {'colsample_bytree': 0.31981741396778784, 'gamma': 0.929066418272273, 'learning_rate': 0.08746765637285477, 'max_depth': 5.049109470520433, 'min_child_weight': 0.8223745060392549, 'n_estimators': 82.72688081999267, 'subsample': 0.6870832907371096}}\n"
          ]
        }
      ]
    },
    {
      "cell_type": "markdown",
      "source": [
        "# **Training & Inference**"
      ],
      "metadata": {
        "id": "MrkslewaTBKg"
      }
    },
    {
      "cell_type": "code",
      "source": [
        "xgb = XGBClassifier(random_state=37, colsample_bytree=0.3, max_depth=6, \n",
        "                    learning_rate=0.04, gamma=0.9, subsample=0.6870832907371096, \n",
        "                    min_child_weight=0.8, n_estimators=90).fit(x_train, y_train)\n",
        "\n",
        "print(\"훈련 세트 정확도: {:.3f}\".format(xgb.score(x_train, y_train)))\n",
        "print(\"테스트 세트 정확도: {:.3f}\".format(xgb.score(x_test, y_test)))\n",
        "preds = xgb.predict(test_x)\n",
        "\n",
        "# preds = xgb.predict(test_x)\n",
        "# t = GB.predict(train_x)\n",
        "# t = xtree.predict(train_x)\n",
        "print('Done.')"
      ],
      "metadata": {
        "id": "9GSd9N-ITL7i",
        "colab": {
          "base_uri": "https://localhost:8080/"
        },
        "outputId": "b1d20acc-3d02-4959-c93e-2bbc96c99d09"
      },
      "execution_count": 70,
      "outputs": [
        {
          "output_type": "stream",
          "name": "stdout",
          "text": [
            "훈련 세트 정확도: 0.984\n",
            "테스트 세트 정확도: 0.807\n",
            "Done.\n"
          ]
        }
      ]
    },
    {
      "cell_type": "markdown",
      "source": [
        "# **Submit**"
      ],
      "metadata": {
        "id": "w6MVmoCQTNvi"
      }
    },
    {
      "cell_type": "code",
      "source": [
        "submit = pd.read_csv('/content/sample_submission.csv')\n",
        "submit['Y_Class'] = preds\n",
        "submit.to_csv('/content/baseline_submission12.csv', index=False)"
      ],
      "metadata": {
        "id": "drb578d9TQJp"
      },
      "execution_count": 71,
      "outputs": []
    }
  ]
}